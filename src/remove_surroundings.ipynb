{
 "cells": [
  {
   "cell_type": "code",
   "execution_count": 5,
   "id": "ebd25b6e-6ea4-4593-a36f-402bb51c248b",
   "metadata": {},
   "outputs": [],
   "source": [
    "import codecs\n",
    "import glob\n",
    "import math\n",
    "import os\n",
    "from decimal import Decimal\n",
    "import pandas as pd"
   ]
  },
  {
   "cell_type": "code",
   "execution_count": 6,
   "id": "22146b2d-de31-4551-9b60-8665a7446ddb",
   "metadata": {},
   "outputs": [],
   "source": [
    "# 注意　データの書き換えコードなのでinputファイルに直接変更を施す\n",
    "\n",
    "data_dir = \"data/test/*.gjf\"\n",
    "paths = [p for p in glob.glob(data_dir)]\n",
    "\n",
    "# 置換したい文字列を指定\n",
    "\n"
   ]
  },
  {
   "cell_type": "code",
   "execution_count": 7,
   "id": "e5def683-d9e6-45dc-8cb1-ab9a558eb1c6",
   "metadata": {},
   "outputs": [],
   "source": [
    "for path in paths:\n",
    "    # file_nameから角度の情報を取る\n",
    "    file_name = path.split('/')[-1]\n",
    "\n",
    "    with codecs.open(path, \"r\", \"UTF-8\", \"ignore\") as file:\n",
    "        df = pd.read_table(file)\n",
    "        df = df.rename(columns={df.columns[0]: 'Col_1'})\n",
    "        start_key = df[df['Col_1'].str.contains(\"  M\")].iloc[0][0]\n",
    "        end_key = \"Constants:\"\n",
    "#         周辺分子に該当するstartとendの間を削除する\n",
    "        \n",
    "    with open(path,\"r\") as f:\n",
    "        data=f.read()\n",
    "        start_idx = data.find(start_key)\n",
    "        end_idx = data.find(end_key)\n",
    "        surroundings = data[start_idx:end_idx]\n",
    "        # 文字列置換\n",
    "        data = data.replace(surroundings, \"\\n\")\n",
    "\n",
    "    # 同じファイル名で保存\n",
    "    with open(path, mode=\"w\", encoding=\"cp932\") as f:\n",
    "        f.write(data)\n",
    "        \n",
    "        "
   ]
  },
  {
   "cell_type": "code",
   "execution_count": 10,
   "id": "f9f4025b-3bc0-427f-be70-636882804606",
   "metadata": {},
   "outputs": [],
   "source": [
    "# 計算方法も書き換えたいとき\n",
    "new_calc_method = \"#N B3LYP/6-311G**\"\n",
    "\n",
    "\n",
    "for path in paths:\n",
    "    # file_nameから角度の情報を取る\n",
    "    file_name = path.split('/')[-1]\n",
    "\n",
    "    with codecs.open(path, \"r\", \"UTF-8\", \"ignore\") as file:\n",
    "        df = pd.read_table(file)\n",
    "        df = df.rename(columns={df.columns[0]: 'Col_1'})\n",
    "#         元の計算方法\n",
    "        calc_method = df.loc[2][0]\n",
    "       \n",
    "    with open(path,\"r\") as f:\n",
    "        data=f.read()\n",
    "        # 文字列置換\n",
    "        data = data.replace(calc_method, new_calc_method)\n",
    "\n",
    "    # 同じファイル名で保存\n",
    "    with open(path, mode=\"w\", encoding=\"cp932\") as f:\n",
    "        f.write(data)\n",
    "        "
   ]
  },
  {
   "cell_type": "code",
   "execution_count": 13,
   "id": "d145ff60-136d-44ba-9331-1abb853e13a6",
   "metadata": {},
   "outputs": [],
   "source": [
    "# ファイル名の変更を行うコード\n",
    "# 注意　データの書き換えコードなのでinputファイルに直接変更を施す\n",
    "\n",
    "data_dir = \"data/test/*.gjf\"\n",
    "paths = [p for p in glob.glob(data_dir)]\n",
    "\n",
    "# 置換したい文字列を指定\n",
    "key = \"dh6\"\n",
    "new_key = \"test\"\n",
    "\n",
    "for path in paths:\n",
    "    if key in key in path.split(\"/\")[-1]:\n",
    "        old_name_list = path.split(key)\n",
    "        new_name = old_name_list[0] + new_key + old_name_list[1]\n",
    "        os.rename(path, new_name)"
   ]
  },
  {
   "cell_type": "code",
   "execution_count": null,
   "id": "55f893b3-8efe-409b-ade6-9d17411c089b",
   "metadata": {},
   "outputs": [],
   "source": []
  }
 ],
 "metadata": {
  "kernelspec": {
   "display_name": "Python 3",
   "language": "python",
   "name": "python3"
  },
  "language_info": {
   "codemirror_mode": {
    "name": "ipython",
    "version": 3
   },
   "file_extension": ".py",
   "mimetype": "text/x-python",
   "name": "python",
   "nbconvert_exporter": "python",
   "pygments_lexer": "ipython3",
   "version": "3.8.8"
  }
 },
 "nbformat": 4,
 "nbformat_minor": 5
}
